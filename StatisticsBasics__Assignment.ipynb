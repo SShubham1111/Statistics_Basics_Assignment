{
  "nbformat": 4,
  "nbformat_minor": 0,
  "metadata": {
    "colab": {
      "provenance": []
    },
    "kernelspec": {
      "name": "python3",
      "display_name": "Python 3"
    },
    "language_info": {
      "name": "python"
    }
  },
  "cells": [
    {
      "cell_type": "markdown",
      "source": [
        "1. What is the difference between descriptive statistics and inferential statistics? Explain with examples.\n",
        " - Descriptive statistics summarizes and presents data in a meaningful way and deals only with the given dataset, without drawing conclusions beyond it Example: The average score of students in a class is 75 marks.\n",
        "\n",
        " - Inferential statistics makes predictions or generalizations about a population based on a sample and extends analysis beyond the dataset to make inferences about a larger population.\n",
        "Example: Predicting the average score of all students in the country based on a sample of 200 students.\n",
        "\n",
        "2. What is sampling in statistics? Explain the differences between random and stratified sampling.\n",
        " - Sampling is the process of selecting a subset of individuals from a larger group/population to analyze and make conclusions about the entire population without studying every member.\n",
        "\n",
        " - Random Sampling: Every individual in the population has an equal chance of being selected. May not guarantee representation of all subgroups.\n",
        "\n",
        "Stratified Sampling: Population is divided into subgroups based on specific characteristics , and samples are randomly taken from each stratum. Ensures representation of each subgroup, leading to more accurate results.\n",
        "\n",
        "3. Define mean, median, and mode. Explain why these measures of central tendency are important?\n",
        " - Mean : The sum of all values divided by the total number of values. Example: For data [2, 4, 6, 8], mean = (2+4+6+8)/4 = 5.\n",
        " - Median : The physical middle value when data is arranged in ascending or descending order. Example: For [2, 4, 6, 8], median = (4+6)/2 = 5.\n",
        " - Mode : The value that occurs most frequently in the dataset. Example: For [2, 4, 4, 6, 8], mode = 4.\n",
        "\n",
        " - Importance -\n",
        "    - They provide a single value that represents the center of a dataset, making it easier to understand large data.\n",
        "\n",
        "    - Helps to compare different datasets.\n",
        "\n",
        "    - Used in business, research, and policy to make informed decisions.\n",
        "\n",
        "4. Explain skewness and kurtosis. What does a positive skew imply about the data?\n",
        " - Skewness : Skewness measures the asymmetry of the data distribution around its mean.\n",
        " - Types: Positive Skew (Right-skewed): Tail is longer on the right side → Mean > Median > Mode. Negative Skew (Left-skewed): Tail is longer on the left side → Mean < Median < Mode.\n",
        " - Kurtosis: Kurtosis measures the peakedness or flatness of a data distribution compared to a normal distribution.\n",
        " - Types: Leptokurtic (High Kurtosis > 3): Tall, sharp peak (data have heavy tails). Mesokurtic (Kurtosis ≈ 3): Normal distribution shape. Platykurtic (Low Kurtosis < 3): Flat peak (data have light tails).\n",
        "\n",
        " - Positive Skew Implies : Most data values are clustered on the left, but a few very large values stretch the tail to the right."
      ],
      "metadata": {
        "id": "KK-7c6kE4azi"
      }
    },
    {
      "cell_type": "code",
      "source": [
        "# 5. Implement a Python program to compute the mean, median, and mode of a given list of numbers. numbers = [12, 15, 12, 18, 19, 12, 20, 22, 19, 19, 24, 24, 24, 26, 28] (Include your Python code and output in the code box below.)\n",
        "\n",
        "import statistics as stats\n",
        "numbers = [12, 15, 12, 18, 19, 12, 20, 22, 19, 19, 24, 24, 24, 26, 28]\n",
        "mean_value = stats.mean(numbers)\n",
        "median_value = stats.median(numbers)\n",
        "mode_value = stats.mode(numbers)\n",
        "print(\"Numbers:\", numbers)\n",
        "print(\"Mean:\", mean_value)\n",
        "print(\"Median:\", median_value)\n",
        "print(\"Mode:\", mode_value)\n"
      ],
      "metadata": {
        "colab": {
          "base_uri": "https://localhost:8080/"
        },
        "id": "ymZAb9Lc8Ri7",
        "outputId": "b731142e-019a-4481-8b87-86aeef813d33"
      },
      "execution_count": 1,
      "outputs": [
        {
          "output_type": "stream",
          "name": "stdout",
          "text": [
            "Numbers: [12, 15, 12, 18, 19, 12, 20, 22, 19, 19, 24, 24, 24, 26, 28]\n",
            "Mean: 19.6\n",
            "Median: 19\n",
            "Mode: 12\n"
          ]
        }
      ]
    },
    {
      "cell_type": "code",
      "source": [
        "# 6. Compute the covariance and correlation coefficient between the following two datasets provided as lists in Python: list_x = [10, 20, 30, 40, 50] list_y = [15, 25, 35, 45, 60] (Include your Python code and output in the code box below.)\n",
        "\n",
        "import numpy as np\n",
        "list_x = [10, 20, 30, 40, 50]\n",
        "list_y = [15, 25, 35, 45, 60]\n",
        "x = np.array(list_x)\n",
        "y = np.array(list_y)\n",
        "cov_matrix = np.cov(x, y, bias=True)\n",
        "\n",
        "cov_xy = cov_matrix[0, 1]\n",
        "\n",
        "corr_xy = np.corrcoef(x, y)[0, 1]\n",
        "\n",
        "print(\"List X:\", list_x)\n",
        "print(\"List Y:\", list_y)\n",
        "print(\"Covariance (X, Y):\", cov_xy)\n",
        "print(\"Correlation Coefficient (X, Y):\", corr_xy)\n",
        "\n"
      ],
      "metadata": {
        "colab": {
          "base_uri": "https://localhost:8080/"
        },
        "id": "DrbGNf9B8RAn",
        "outputId": "fba23ba3-1830-4c90-86c4-f19bacd4e60c"
      },
      "execution_count": 2,
      "outputs": [
        {
          "output_type": "stream",
          "name": "stdout",
          "text": [
            "List X: [10, 20, 30, 40, 50]\n",
            "List Y: [15, 25, 35, 45, 60]\n",
            "Covariance (X, Y): 220.0\n",
            "Correlation Coefficient (X, Y): 0.995893206467704\n"
          ]
        }
      ]
    },
    {
      "cell_type": "code",
      "source": [
        "# 7. Write a Python script to draw a boxplot for the following numeric list and identify its outliers. Explain the result: data = [12, 14, 14, 15, 18, 19, 19, 21, 22, 22, 23, 23, 24, 26, 29, 35] (Include your Python code and output in the code box below.)\n",
        "\n",
        "import matplotlib.pyplot as plt\n",
        "import numpy as np\n",
        "\n",
        "data = [12, 14, 14, 15, 18, 19, 19, 21, 22, 22, 23, 23, 24, 26, 29, 35]\n",
        "\n",
        "plt.boxplot(data, vert=False, patch_artist=True)\n",
        "plt.title(\"Boxplot of Given Data\")\n",
        "plt.xlabel(\"Values\")\n",
        "plt.show()\n",
        "\n",
        "Q1 = np.percentile(data, 25)\n",
        "Q3 = np.percentile(data, 75)\n",
        "IQR = Q3 - Q1\n",
        "\n",
        "lower_bound = Q1 - 1.5 * IQR\n",
        "upper_bound = Q3 + 1.5 * IQR\n",
        "\n",
        "outliers = [x for x in data if x < lower_bound or x > upper_bound]\n",
        "\n",
        "print(\"Q1:\", Q1)\n",
        "print(\"Q3:\", Q3)\n",
        "print(\"IQR:\", IQR)\n",
        "print(\"Lower Bound:\", lower_bound)\n",
        "print(\"Upper Bound:\", upper_bound)\n",
        "print(\"Outliers:\", outliers)\n"
      ],
      "metadata": {
        "colab": {
          "base_uri": "https://localhost:8080/",
          "height": 576
        },
        "id": "mgKKSRM88Q2Y",
        "outputId": "7277cf06-2771-4c89-a7f1-ab3723f2853a"
      },
      "execution_count": 3,
      "outputs": [
        {
          "output_type": "display_data",
          "data": {
            "text/plain": [
              "<Figure size 640x480 with 1 Axes>"
            ],
            "image/png": "[encoded data removed]"
          },
          "metadata": {}
        },
        {
          "output_type": "stream",
          "name": "stdout",
          "text": [
            "Q1: 17.25\n",
            "Q3: 23.25\n",
            "IQR: 6.0\n",
            "Lower Bound: 8.25\n",
            "Upper Bound: 32.25\n",
            "Outliers: [35]\n"
          ]
        }
      ]
    },
    {
      "cell_type": "code",
      "source": [
        "# 8. You are working as a data analyst in an e-commerce company. The marketing team wants to know if there is a relationship between advertising spend and daily sales. ● Explain how you would use covariance and correlation to explore this relationship. ● Write Python code to compute the correlation between the two lists: advertising_spend = [200, 250, 300, 400, 500]   daily_sales = [2200, 2450, 2750, 3200, 4000] (Include your Python code and output in the code box below.)\n",
        "\n",
        "import numpy as np\n",
        "\n",
        "advertising_spend = [200, 250, 300, 400, 500]\n",
        "daily_sales = [2200, 2450, 2750, 3200, 4000]\n",
        "\n",
        "x = np.array(advertising_spend)\n",
        "y = np.array(daily_sales)\n",
        "\n",
        "cov_matrix = np.cov(x, y, bias=True)\n",
        "cov_xy = cov_matrix[0, 1]\n",
        "\n",
        "corr_xy = np.corrcoef(x, y)[0, 1]\n",
        "\n",
        "print(\"Advertising Spend:\", advertising_spend)\n",
        "print(\"Daily Sales:\", daily_sales)\n",
        "print(\"Covariance (X, Y):\", cov_xy)\n",
        "print(\"Correlation Coefficient (X, Y):\", corr_xy)\n"
      ],
      "metadata": {
        "colab": {
          "base_uri": "https://localhost:8080/"
        },
        "id": "jSBKvuTJ8QuA",
        "outputId": "37709fb7-5fcf-44c9-8aa1-154e73542f9e"
      },
      "execution_count": 4,
      "outputs": [
        {
          "output_type": "stream",
          "name": "stdout",
          "text": [
            "Advertising Spend: [200, 250, 300, 400, 500]\n",
            "Daily Sales: [2200, 2450, 2750, 3200, 4000]\n",
            "Covariance (X, Y): 67900.0\n",
            "Correlation Coefficient (X, Y): 0.9935824101653329\n"
          ]
        }
      ]
    },
    {
      "cell_type": "code",
      "source": [
        "# 9. Your team has collected customer satisfaction survey data on a scale of 1-10 and wants to understand its distribution before launching a new product. ● Explain which summary statistics and visualizations (e.g. mean, standard deviation, histogram) you’d use. ● Write Python code to create a histogram using Matplotlib for the survey data: survey_scores = [7, 8, 5, 9, 6, 7, 8, 9, 10, 4, 7, 6, 9, 8, 7] (Include your Python code and output in the code box below.)\n",
        "\n",
        "import matplotlib.pyplot as plt\n",
        "\n",
        "survey_scores = [7, 8, 5, 9, 6, 7, 8, 9, 10, 4, 7, 6, 9, 8, 7]\n",
        "\n",
        "plt.hist(survey_scores, bins=range(4, 12), edgecolor='black', color='skyblue', rwidth=0.8)\n",
        "plt.title(\"Customer Satisfaction Survey Scores\")\n",
        "plt.xlabel(\"Survey Score\")\n",
        "plt.ylabel(\"Frequency\")\n",
        "plt.xticks(range(4, 11))\n",
        "plt.show()\n"
      ],
      "metadata": {
        "colab": {
          "base_uri": "https://localhost:8080/",
          "height": 472
        },
        "id": "XLd9JtPz8QUp",
        "outputId": "f027306f-125b-4aa1-bb1e-b893ad33f7e4"
      },
      "execution_count": 5,
      "outputs": [
        {
          "output_type": "display_data",
          "data": {
            "text/plain": [
              "<Figure size 640x480 with 1 Axes>"
            ],
            "image/png": "[encoded data removed]"
          },
          "metadata": {}
        }
      ]
    },
    {
      "cell_type": "code",
      "source": [],
      "metadata": {
        "id": "DYDe3o6u9p69"
      },
      "execution_count": null,
      "outputs": []
    }
  ]
}